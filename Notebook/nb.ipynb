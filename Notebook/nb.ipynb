{
 "cells": [
  {
   "cell_type": "code",
   "execution_count": null,
   "id": "ce22aee6",
   "metadata": {},
   "outputs": [],
   "source": [
    "#!pip install pypdf"
   ]
  },
  {
   "cell_type": "code",
   "execution_count": null,
   "id": "27bcbfde",
   "metadata": {},
   "outputs": [],
   "source": [
    "path = r\"D:\\Python Projects\\6-RAG_on_Docs\\Data\\HDFC-Bill\\FBBL3325B57458 2.pdf\""
   ]
  },
  {
   "cell_type": "code",
   "execution_count": null,
   "id": "3e609b9d",
   "metadata": {},
   "outputs": [],
   "source": [
    "from pypdf import PdfReader\n",
    "\n",
    "reader = PdfReader(path)\n",
    "no_of_pages = len(reader.pages)\n",
    "page = reader.pages[1]\n",
    "text = page.extract_text"
   ]
  },
  {
   "cell_type": "code",
   "execution_count": null,
   "id": "8d51dd2e",
   "metadata": {},
   "outputs": [],
   "source": [
    "reader.pages[0].extract_text"
   ]
  },
  {
   "cell_type": "code",
   "execution_count": null,
   "id": "64782776",
   "metadata": {},
   "outputs": [],
   "source": []
  },
  {
   "cell_type": "code",
   "execution_count": null,
   "id": "02144321",
   "metadata": {},
   "outputs": [],
   "source": [
    "from pdfminer.high_level import extract_text\n",
    "\n",
    "text = extract_text(path)"
   ]
  },
  {
   "cell_type": "code",
   "execution_count": null,
   "id": "a47e4c48",
   "metadata": {},
   "outputs": [],
   "source": [
    "text"
   ]
  },
  {
   "cell_type": "code",
   "execution_count": null,
   "id": "4180ebfa",
   "metadata": {},
   "outputs": [],
   "source": [
    "import pdfplumber"
   ]
  },
  {
   "cell_type": "code",
   "execution_count": null,
   "id": "36308948",
   "metadata": {},
   "outputs": [],
   "source": [
    "with pdfplumber.open(path) as pdf:\n",
    "    text2= ''.join(page.extract_text() for page in pdf.pages)"
   ]
  },
  {
   "cell_type": "code",
   "execution_count": null,
   "id": "0287ec60",
   "metadata": {},
   "outputs": [],
   "source": [
    "print(text2)"
   ]
  },
  {
   "cell_type": "code",
   "execution_count": null,
   "id": "12c9038e",
   "metadata": {},
   "outputs": [],
   "source": []
  },
  {
   "cell_type": "code",
   "execution_count": null,
   "id": "dbf2444b",
   "metadata": {},
   "outputs": [],
   "source": [
    "import fitz  # PyMuPDF\n",
    "doc = fitz.open(path)\n",
    "text3= \"\"\n",
    "for page in doc:\n",
    "    text3+= page.get_text()\n"
   ]
  },
  {
   "cell_type": "code",
   "execution_count": null,
   "id": "70ce1e00",
   "metadata": {},
   "outputs": [],
   "source": [
    "print(text3)"
   ]
  },
  {
   "cell_type": "code",
   "execution_count": null,
   "id": "61e3e7ab",
   "metadata": {},
   "outputs": [],
   "source": []
  },
  {
   "cell_type": "code",
   "execution_count": null,
   "id": "cc045e2f",
   "metadata": {},
   "outputs": [],
   "source": [
    "pip install pdfminer.six"
   ]
  },
  {
   "cell_type": "code",
   "execution_count": null,
   "id": "c2d52b0b",
   "metadata": {},
   "outputs": [],
   "source": [
    "from pdfminer.high_level import extract_pages, extract_text_to_fp, extract_text"
   ]
  },
  {
   "cell_type": "code",
   "execution_count": null,
   "id": "6ca773ab",
   "metadata": {},
   "outputs": [],
   "source": [
    "path = r\"D:\\Python Projects\\6-RAG_on_Docs\\Data\\HDFC-Bill\\FBBL3325B57458 2.pdf\""
   ]
  },
  {
   "cell_type": "code",
   "execution_count": null,
   "id": "6a8312b6",
   "metadata": {},
   "outputs": [],
   "source": [
    "a = extract_pages(path)\n",
    "#b= extract_text_to_fp(path)\n",
    "c = extract_text(path)"
   ]
  },
  {
   "cell_type": "code",
   "execution_count": null,
   "id": "2954d891",
   "metadata": {},
   "outputs": [],
   "source": [
    "a"
   ]
  },
  {
   "cell_type": "code",
   "execution_count": null,
   "id": "3c9e68d2",
   "metadata": {},
   "outputs": [],
   "source": [
    "print(c)"
   ]
  },
  {
   "cell_type": "code",
   "execution_count": null,
   "id": "1a400d21",
   "metadata": {},
   "outputs": [],
   "source": [
    "pip install PyPDF2\n"
   ]
  },
  {
   "cell_type": "code",
   "execution_count": null,
   "id": "a55071bd",
   "metadata": {},
   "outputs": [],
   "source": [
    "import PyPDF2\n",
    "\n",
    "# Open the PDF file in read-binary mode\n",
    "with open(path,'rb') as file:\n",
    "    reader = PyPDF2.PdfReader(file)\n",
    "    \n",
    "    # Get the number of pages\n",
    "    num_pages = len(reader.pages)\n",
    "    print(f\"Number of pages: {num_pages}\")\n",
    "    \n",
    "    # Loop through all pages and print text\n",
    "    for i in range(num_pages):\n",
    "        page = reader.pages[i]\n",
    "        text = page.extract_text()\n",
    "        print(f\"\\n--- Page {i+1} ---\\n\")\n",
    "        print(text)\n"
   ]
  },
  {
   "cell_type": "code",
   "execution_count": null,
   "id": "99c84e63",
   "metadata": {},
   "outputs": [],
   "source": [
    "p_obj = open(path,'rb')"
   ]
  },
  {
   "cell_type": "code",
   "execution_count": null,
   "id": "38a6769a",
   "metadata": {},
   "outputs": [],
   "source": [
    "txt = PyPDF2.PdfReader(p_obj)"
   ]
  },
  {
   "cell_type": "code",
   "execution_count": null,
   "id": "9c9f4cdd",
   "metadata": {},
   "outputs": [],
   "source": [
    "txt.ex"
   ]
  },
  {
   "cell_type": "code",
   "execution_count": null,
   "id": "549262ed",
   "metadata": {},
   "outputs": [],
   "source": []
  },
  {
   "cell_type": "code",
   "execution_count": null,
   "id": "704f8131",
   "metadata": {},
   "outputs": [],
   "source": []
  },
  {
   "cell_type": "code",
   "execution_count": null,
   "id": "c94029b5",
   "metadata": {},
   "outputs": [],
   "source": [
    "path3 = r\"D:\\Python Projects\\6-RAG_on_Docs\\Data\\MOL-BankStatement\\HDFC.pdf\""
   ]
  },
  {
   "cell_type": "code",
   "execution_count": null,
   "id": "b60dea0d",
   "metadata": {},
   "outputs": [],
   "source": [
    "import pdfplumber"
   ]
  },
  {
   "cell_type": "code",
   "execution_count": null,
   "id": "5981f502",
   "metadata": {},
   "outputs": [],
   "source": [
    "\n",
    "\n",
    "# with pdfplumber.open(path3) as pdf:\n",
    "#     for page_num, page in enumerate(pdf.pages):\n",
    "#         tables = page.extract_tables()\n",
    "#         for table in tables:\n",
    "#             print(f\"\\n--- Page {page_num + 1} Table ---\")\n",
    "#             for row in table:\n",
    "#                 print(row)\n",
    "\n",
    "\n",
    "import pdfplumber\n",
    "import pandas as pd\n",
    "\n",
    "dataframes = []\n",
    "\n",
    "with pdfplumber.open(path3) as pdf:\n",
    "    for page in pdf.pages:\n",
    "        tables = page.extract_tables()\n",
    "        for table in tables:\n",
    "            # Convert list of rows into DataFrame\n",
    "            df = pd.DataFrame(table[1:], columns=table[0])  # Use first row as header\n",
    "            dataframes.append(df)\n",
    "\n",
    "# Combine all tables from all pages\n",
    "final_df = pd.concat(dataframes, ignore_index=True)\n"
   ]
  },
  {
   "cell_type": "code",
   "execution_count": null,
   "id": "40658b10",
   "metadata": {},
   "outputs": [],
   "source": [
    "final_df"
   ]
  },
  {
   "cell_type": "code",
   "execution_count": null,
   "id": "38b3ae20",
   "metadata": {},
   "outputs": [],
   "source": [
    "pip install camelot-py[cv]"
   ]
  },
  {
   "cell_type": "code",
   "execution_count": null,
   "id": "eb426707",
   "metadata": {},
   "outputs": [],
   "source": [
    "import camelot\n",
    "import pandas as pd\n",
    "import numpy as np\n",
    "\n",
    "# Choose \"lattice\" if tables have borders, else \"stream\"\n",
    "tables = camelot.read_pdf(path3, pages=\"all\", flavor='stream')\n",
    "\n",
    "# Convert first table to DataFrame\n",
    "df = tables[0].df\n",
    "\n",
    "# Optionally, clean headers\n",
    "df.columns = df.iloc[0]  # First row as header\n",
    "df = df[1:]  # Remove header row from data\n",
    "\n",
    "print(df.head())\n"
   ]
  },
  {
   "cell_type": "code",
   "execution_count": null,
   "id": "21756695",
   "metadata": {},
   "outputs": [],
   "source": []
  },
  {
   "cell_type": "code",
   "execution_count": null,
   "id": "a4f20bb1",
   "metadata": {},
   "outputs": [],
   "source": [
    "import camelot\n",
    "\n",
    "# Choose \"lattice\" if tables have borders, else \"stream\"\n",
    "tables = camelot.read_pdf(path3, pages=\"all\", flavor='lattice')\n",
    "combined_df2 = pd.concat([table.df for table in tables], ignore_index=True)\n",
    "\n",
    "# Convert first table to DataFrame\n",
    "#df2 = tables[0].df\n",
    "#df2 = tables.\n",
    "\n",
    "# # Optionally, clean headers\n",
    "# df2.columns = df2.iloc[0]  # First row as header\n",
    "# df2 = df2[1:]  # Remove header row from data\n",
    "\n",
    "#print(df2.head())\n"
   ]
  },
  {
   "cell_type": "code",
   "execution_count": null,
   "id": "3dda5ffa",
   "metadata": {},
   "outputs": [],
   "source": []
  },
  {
   "cell_type": "code",
   "execution_count": null,
   "id": "86ec3f4d",
   "metadata": {},
   "outputs": [],
   "source": [
    "combined_df2.shape"
   ]
  },
  {
   "cell_type": "code",
   "execution_count": null,
   "id": "af5c16c3",
   "metadata": {},
   "outputs": [],
   "source": [
    "combined_df2"
   ]
  },
  {
   "cell_type": "code",
   "execution_count": null,
   "id": "74e4576f",
   "metadata": {},
   "outputs": [],
   "source": [
    "df2.head()"
   ]
  },
  {
   "cell_type": "code",
   "execution_count": null,
   "id": "c81296d6",
   "metadata": {},
   "outputs": [],
   "source": [
    "path = r\"D:\\Python Projects\\6-RAG_on_Docs\\Data\\HDFC-Bill\\FBBL3325B57458 2.pdf\"\n",
    "\n",
    "import camelot\n",
    "\n",
    "# Choose \"lattice\" if tables have borders, else \"stream\"\n",
    "tables = camelot.read_pdf(path, pages=\"4\", flavor='lattice')\n",
    "combined_df2 = pd.concat([table.df for table in tables], ignore_index=True)"
   ]
  },
  {
   "cell_type": "code",
   "execution_count": null,
   "id": "f720bafc",
   "metadata": {},
   "outputs": [],
   "source": [
    "combined_df2.shape"
   ]
  },
  {
   "cell_type": "code",
   "execution_count": null,
   "id": "587572e5",
   "metadata": {},
   "outputs": [],
   "source": [
    "combined_df2"
   ]
  },
  {
   "cell_type": "code",
   "execution_count": null,
   "id": "31b87203",
   "metadata": {},
   "outputs": [],
   "source": [
    "# pip install DocumentConverter\n",
    "\n"
   ]
  },
  {
   "cell_type": "code",
   "execution_count": null,
   "id": "dda11891",
   "metadata": {},
   "outputs": [],
   "source": [
    "pip install docling"
   ]
  },
  {
   "cell_type": "code",
   "execution_count": 3,
   "id": "dbeda236",
   "metadata": {},
   "outputs": [
    {
     "name": "stderr",
     "output_type": "stream",
     "text": [
      "d:\\Python Projects\\6-RAG_on_Docs\\venv\\Lib\\site-packages\\tqdm\\auto.py:21: TqdmWarning: IProgress not found. Please update jupyter and ipywidgets. See https://ipywidgets.readthedocs.io/en/stable/user_install.html\n",
      "  from .autonotebook import tqdm as notebook_tqdm\n"
     ]
    }
   ],
   "source": [
    "from docling.document_converter import DocumentConverter\n",
    "\n",
    "path = r\"D:\\Python Projects\\6-RAG_on_Docs\\Data\\HDFC-Bill\\FBBL3325B57458 2.pdf\"\n",
    "\n",
    "path3 = r\"D:\\Python Projects\\6-RAG_on_Docs\\Data\\MOL-BankStatement\\HDFC.pdf\""
   ]
  },
  {
   "cell_type": "code",
   "execution_count": 4,
   "id": "4241df7c",
   "metadata": {},
   "outputs": [
    {
     "name": "stderr",
     "output_type": "stream",
     "text": [
      "2025-10-22 15:54:36,339 - INFO - detected formats: [<InputFormat.PDF: 'pdf'>]\n",
      "2025-10-22 15:54:42,736 - INFO - Going to convert document batch...\n",
      "2025-10-22 15:54:42,744 - INFO - Initializing pipeline for StandardPdfPipeline with options hash 4f2edc0f7d9bb60b38ebfecf9a2609f5\n",
      "2025-10-22 15:54:42,799 - INFO - Loading plugin 'docling_defaults'\n",
      "2025-10-22 15:54:42,810 - INFO - Registered picture descriptions: ['vlm', 'api']\n",
      "2025-10-22 15:54:42,860 - INFO - Loading plugin 'docling_defaults'\n",
      "2025-10-22 15:54:42,873 - INFO - Registered ocr engines: ['auto', 'easyocr', 'ocrmac', 'rapidocr', 'tesserocr', 'tesseract']\n",
      "2025-10-22 15:54:43,228 - INFO - rapidocr cannot be used because onnxruntime is not installed.\n",
      "2025-10-22 15:54:43,232 - INFO - easyocr cannot be used because it is not installed.\n",
      "2025-10-22 15:54:45,236 - INFO - Accelerator device: 'cpu'\n",
      "\u001b[32m[INFO] 2025-10-22 15:54:45,357 [RapidOCR] base.py:22: Using engine_name: torch\u001b[0m\n",
      "\u001b[32m[INFO] 2025-10-22 15:54:45,377 [RapidOCR] download_file.py:68: Initiating download: https://www.modelscope.cn/models/RapidAI/RapidOCR/resolve/v3.4.0/torch/PP-OCRv4/det/ch_PP-OCRv4_det_infer.pth\u001b[0m\n",
      "\u001b[32m[INFO] 2025-10-22 15:54:51,622 [RapidOCR] download_file.py:82: Download size: 13.83MB\u001b[0m\n",
      "\u001b[32m[INFO] 2025-10-22 15:54:58,709 [RapidOCR] download_file.py:95: Successfully saved to: D:\\Python Projects\\6-RAG_on_Docs\\venv\\Lib\\site-packages\\rapidocr\\models\\ch_PP-OCRv4_det_infer.pth\u001b[0m\n",
      "\u001b[32m[INFO] 2025-10-22 15:54:58,720 [RapidOCR] torch.py:54: Using D:\\Python Projects\\6-RAG_on_Docs\\venv\\Lib\\site-packages\\rapidocr\\models\\ch_PP-OCRv4_det_infer.pth\u001b[0m\n",
      "\u001b[32m[INFO] 2025-10-22 15:55:00,341 [RapidOCR] base.py:22: Using engine_name: torch\u001b[0m\n",
      "\u001b[32m[INFO] 2025-10-22 15:55:00,345 [RapidOCR] download_file.py:68: Initiating download: https://www.modelscope.cn/models/RapidAI/RapidOCR/resolve/v3.4.0/torch/PP-OCRv4/cls/ch_ptocr_mobile_v2.0_cls_infer.pth\u001b[0m\n",
      "\u001b[32m[INFO] 2025-10-22 15:55:04,137 [RapidOCR] download_file.py:82: Download size: 0.56MB\u001b[0m\n",
      "\u001b[32m[INFO] 2025-10-22 15:55:08,653 [RapidOCR] download_file.py:95: Successfully saved to: D:\\Python Projects\\6-RAG_on_Docs\\venv\\Lib\\site-packages\\rapidocr\\models\\ch_ptocr_mobile_v2.0_cls_infer.pth\u001b[0m\n",
      "\u001b[32m[INFO] 2025-10-22 15:55:08,664 [RapidOCR] torch.py:54: Using D:\\Python Projects\\6-RAG_on_Docs\\venv\\Lib\\site-packages\\rapidocr\\models\\ch_ptocr_mobile_v2.0_cls_infer.pth\u001b[0m\n",
      "\u001b[32m[INFO] 2025-10-22 15:55:09,142 [RapidOCR] base.py:22: Using engine_name: torch\u001b[0m\n",
      "\u001b[32m[INFO] 2025-10-22 15:55:09,148 [RapidOCR] download_file.py:68: Initiating download: https://www.modelscope.cn/models/RapidAI/RapidOCR/resolve/v3.4.0/torch/PP-OCRv4/rec/ch_PP-OCRv4_rec_infer.pth\u001b[0m\n",
      "\u001b[32m[INFO] 2025-10-22 15:55:10,800 [RapidOCR] download_file.py:82: Download size: 25.67MB\u001b[0m\n",
      "\u001b[32m[INFO] 2025-10-22 15:55:27,020 [RapidOCR] download_file.py:95: Successfully saved to: D:\\Python Projects\\6-RAG_on_Docs\\venv\\Lib\\site-packages\\rapidocr\\models\\ch_PP-OCRv4_rec_infer.pth\u001b[0m\n",
      "\u001b[32m[INFO] 2025-10-22 15:55:27,031 [RapidOCR] torch.py:54: Using D:\\Python Projects\\6-RAG_on_Docs\\venv\\Lib\\site-packages\\rapidocr\\models\\ch_PP-OCRv4_rec_infer.pth\u001b[0m\n",
      "2025-10-22 15:55:28,553 - INFO - Auto OCR model selected rapidocr with torch.\n",
      "2025-10-22 15:55:28,600 - INFO - Accelerator device: 'cpu'\n",
      "2025-10-22 15:57:37,958 - INFO - Accelerator device: 'cpu'\n",
      "2025-10-22 15:57:41,788 - INFO - Processing document FBBL3325B57458 2.pdf\n",
      "\u001b[32m[INFO] 2025-10-22 15:57:50,441 [RapidOCR] download_file.py:68: Initiating download: https://www.modelscope.cn/models/RapidAI/RapidOCR/resolve/v3.4.0/resources/fonts/FZYTK.TTF\u001b[0m\n",
      "\u001b[32m[INFO] 2025-10-22 15:57:54,018 [RapidOCR] download_file.py:82: Download size: 3.09MB\u001b[0m\n",
      "\u001b[32m[INFO] 2025-10-22 15:57:56,324 [RapidOCR] download_file.py:95: Successfully saved to: D:\\Python Projects\\6-RAG_on_Docs\\venv\\Lib\\site-packages\\rapidocr\\models\\FZYTK.TTF\u001b[0m\n",
      "2025-10-22 15:59:53,382 - INFO - Finished converting document FBBL3325B57458 2.pdf in 317.03 sec.\n"
     ]
    }
   ],
   "source": [
    "\n",
    "source = path  # file path or URL\n",
    "converter = DocumentConverter()\n",
    "doc = converter.convert(source).document\n"
   ]
  },
  {
   "cell_type": "code",
   "execution_count": 5,
   "id": "e4c332af",
   "metadata": {},
   "outputs": [
    {
     "name": "stdout",
     "output_type": "stream",
     "text": [
      "## DATA SERVICES\n",
      "\n",
      "Original copy for Recipient: Tax Invoice\n",
      "\n",
      "## Your Account Summary Mailing Address\n",
      "\n",
      "Altaf Karvinkar\n",
      "\n",
      "## HDFC SALES PRIVATE LIMITED\n",
      "\n",
      "HDFC Sale Pvt Ltd hdfc house 4th floor h.t Parekh Marg 165-166 Backbay Reciamation churchgate mumbai -400020 -\n",
      "\n",
      "Mumbai - -\n",
      "\n",
      "Maharashtra\n",
      "\n",
      "<!-- image -->\n",
      "\n",
      "75100396 FBBL3325B57458\n",
      "\n",
      "## Billing Address\n",
      "\n",
      "## HDFC SALES PRIVATE LIMITED\n",
      "\n",
      "VIKRAM , 1TH Floor, West Sivan Koil Street, Vadapalani, -\n",
      "\n",
      "Chennai-600026 . -\n",
      "\n",
      "Chennai - 600026\n",
      "\n",
      "Tamil Nadu\n",
      "\n",
      "## GSTIN Details\n",
      "\n",
      "Customer GSTIN. :\n",
      "\n",
      "33AABCH4278H1ZN\n",
      "\n",
      "Place of Supply :\n",
      "\n",
      "Tamil Nadu\n",
      "\n",
      "State Code :\n",
      "\n",
      "33\n",
      "\n",
      "Customer PAN No. :\n",
      "\n",
      "AABCH4278H\n",
      "\n",
      "<!-- image -->\n",
      "\n",
      "## Amount(INR)\n",
      "\n",
      "Recurring charges\n",
      "\n",
      "0.00\n",
      "\n",
      "One time charges\n",
      "\n",
      "1,57,338.99\n",
      "\n",
      "Adjustments\n",
      "\n",
      "0.00\n",
      "\n",
      "Sub-Total\n",
      "\n",
      "1,57,338.99\n",
      "\n",
      "CGST\n",
      "\n",
      "14,160.51\n",
      "\n",
      "SGST/UTGST\n",
      "\n",
      "14,160.51\n",
      "\n",
      "Total Taxes\n",
      "\n",
      "28,321.02\n",
      "\n",
      "## Total (INR)\n",
      "\n",
      "1,85,660.01\n",
      "\n",
      "Amount in Words: INR One Lakh Eighty Five Thousand Six Hundred Sixty Rupees and One Paise Only\n",
      "\n",
      "&lt;unknown&gt;\n",
      "\n",
      "Bharti Airtel Ltd\n",
      "\n",
      "Authorised Signatory\n",
      "\n",
      "S+C人\n",
      "\n",
      "<!-- image -->\n",
      "\n",
      "IRN Code: 91bb25605c674a42bcbacc2d0d3e184c5fe98a6496c0a8f1ce8bed38f4c45805\n",
      "\n",
      "<!-- image -->\n",
      "\n",
      "ReducePaper Waste! Register at abbill@airtel.com&amp; subscribe to e-billing.\n",
      "\n",
      "## YOUR PAYMENT OPTIONS\n",
      "\n",
      "Pay bill online through Airtel Thanks for Business - https://www.airtel.in/business/thanksforbusiness/login/\n",
      "\n",
      "Internal Id: 75100396\n",
      "\n",
      "Account No.\n",
      "\n",
      "21025016\n",
      "\n",
      "Bill No. FBBL3325B57458\n",
      "\n",
      "Amount Due: INR 1,85,660.01\n",
      "\n",
      "LoB:  Data Business\n",
      "\n",
      "EFT/RTGS\n",
      "\n",
      "Bank Name: Citi Bank NA\n",
      "\n",
      "Bank A/c No:\n",
      "\n",
      "BTELDC00000000090445\n",
      "\n",
      "Beneficiary A/c Name:\n",
      "\n",
      "Bharti Airtel Ltd\n",
      "\n",
      "PAN: AAACB2894G\n",
      "\n",
      "IFSC: CITI0000004\n",
      "\n",
      "GST Registration No: 33AAACB2894G1ZU\n",
      "\n",
      "*No tax payable on reverse charge basis\n",
      "\n",
      "## Account Details\n",
      "\n",
      "Account no\n",
      "\n",
      "21025016\n",
      "\n",
      "Internal id\n",
      "\n",
      "75100396\n",
      "\n",
      "Bill no\n",
      "\n",
      "FBBL3325B57458\n",
      "\n",
      "Bill date\n",
      "\n",
      "24-FEB-2025\n",
      "\n",
      "Pay By date\n",
      "\n",
      "17-MAR-2025\n",
      "\n",
      "## Summary Of Charges\n",
      "\n",
      "## Bharti Airtel Ltd\n",
      "\n",
      "<!-- image -->\n",
      "\n",
      "## Terms &amp; Conditions\n",
      "\n",
      "- 1) Bharti Airtel Ltd. has full right to change the terms and conditions applicable to tariff plans from time to time.\n",
      "- 2) Bharti Airtel Ltd. reserves the right to suspend service in case of non-payment by Due Date. The customer shall continue to be liable for the charges during the period of suspension.\n",
      "- 3) The invoice will be deemed accepted in case of variation/dispute not reported by Due Date of invoice. Any arbitration as result of such dispute shall be conducted exclusively in Delhi.\n",
      "- 4) In case of any changes (upgrade, downgrade or shifting) done on any live Circuit Id, the adjusted amount will be submitted in subsequent invoice after the implementation of changes delivered.\n",
      "- 5) In the event of termination of a link(s) or partial termination of the Data Services during the Service Order Term for the respective link(s)/Data Services by the Customer, Airtel reserves the right to charge for the residual term at the rates as mentioned in the Service Acquisition Form\n",
      "- 6) (\"Termination Charges\") and Customer agrees to pay such Termination Charges along with charges for Data Services rendered up to the effective date of termination within Due Date of the date of the invoice.\n",
      "\n",
      "Nature Of Service : Telecommunication, broadcasting and information supply services, Information technology and software support services, On line information and data base access or retrieval,Management maintenance or repair, leasing or rental services with or without operator and erection Commissioning or installation.\n",
      "\n",
      "## Charge calculation method\n",
      "\n",
      "For products which are charged annually:\n",
      "\n",
      "Full year charge = Annual Charges\n",
      "\n",
      "Prorated monthly charges =(Annual charges / 12*No of months)\n",
      "\n",
      "For Fractional months, the calculation has been done as follows: (Annual Charges/4) * (Days of Service in Quarter/Total No. of days in Quarter) Same calculations will be done for monthly billing cycle\n",
      "\n",
      "## How to disconnect ?\n",
      "\n",
      "Kindly log in and raise request on Airtel Thanks for Business: https://www.airtel.in/business/thanksforbusiness/login/. Request for disconnection of Circuit id (LSI) on Airtel Thanks for Business can be raised by clicking on \"Circuits\" option present in the left hand navigationmenu bar under \"Airtel Connectivity\" tab. ,Upon receipt of request, a Service Request (SR) No. will be provided to you. Please note that in absence of SR number, no credit adjustment shall be made for the delay in disconnection and the customer shall be liable to pay for the charges. We request you to use Airtel Thanks for Business for raising disconnection request.\n",
      "\n",
      "## How to raise dispute ?\n",
      "\n",
      "Kindly contact us on Airtel Thanks for Business: https://www.airtel.in/business/thanksforbusiness/login/. Login using your registered email id.OR\n",
      "\n",
      "- 1) Kindly write to us at datasupport@airtel.com. Please notify us of the disputed charges by the Due Date with the following information:\n",
      "- 2) Invoice Number\n",
      "- 3) Circuit ID (LSI)\n",
      "- 4) Amount of disputed charges\n",
      "- 5) Reason for disputing the charges\n",
      "- 6) Mails exchanged with Airtel team, if any\n",
      "\n",
      "## Key contact points\n",
      "\n",
      "In case of queries reach out to your respective Relationship Manager / Account Manager.\n",
      "\n",
      "## Summary Of Charges\n",
      "\n",
      "Product/HSN\n",
      "\n",
      "MPLS-LM/998414\n",
      "\n",
      "Qty/UQM\n",
      "\n",
      "1/Others\n",
      "\n",
      "Installation Address(A)\n",
      "\n",
      "Installation Address(B)\n",
      "\n",
      "| LSI       | PO No / Date             | Installation Date / Period   | Bandwidth / Distance   | Description                                                             | Annual Charges (INR)   | Current Charges (INR )   | CGST   | CGST      | SGST/UTGST   | SGST/UTGST   | IGST   | IGST   |\n",
      "|-----------|--------------------------|------------------------------|------------------------|-------------------------------------------------------------------------|------------------------|--------------------------|--------|-----------|--------------|--------------|--------|--------|\n",
      "|           |                          |                              |                        |                                                                         |                        |                          | Rate   | Amount    | Rate         | Amount       | Rate   | Amount |\n",
      "| 500491322 | MOD/ HDFC/2023-2024/335/ | 01-Oct-2024 / 01-Feb-2025    | 1024 Kbps / -          | Billing for JFM 25- State - TAMIL NADU: Count of Circuit id = 14626587, | 0.00                   | 1,57,338.99              | 9%     | 14,160.51 | 9%           | 14,160.51    | 0%     | 0.00   |\n",
      "| Total     |                          |                              |                        |                                                                         | 0.00                   | 1,57,338.99              |        | 14,160.51 |              | 14,160.51    |        | 0.00   |\n",
      "\n",
      "## Tax Details\n",
      "\n",
      "| Description   | HSN    | Taxable Value   | Rate   | Amount    | Total     |\n",
      "|---------------|--------|-----------------|--------|-----------|-----------|\n",
      "| CGST          | 998414 | 1,57,338.99     | 9%     | 14,160.51 | 28,321.02 |\n",
      "| UTGST/SGST    | 998414 | 1,57,338.99     | 9%     | 14,160.51 |           |\n",
      "| Total         |        |                 |        |           | 28,321.02 |\n",
      "\n",
      "Bill no    :\n",
      "\n",
      "FBBL3325B57458\n",
      "\n",
      "Bill date :\n",
      "\n",
      "24-FEB-2025\n",
      "\n",
      "| Invoice_Nu mber   | From_Date   | To_Date   | Logical_Ckt_Id   | Request No              | Request Date   | Product         | Rate_Per_Ann um   | Annotation                                                                                                                                                                                       |   Basic_Cur_Amt |   Tax_Cur_Amt |   Net_Payable_Cu r_Amt |\n",
      "|-------------------|-------------|-----------|------------------|-------------------------|----------------|-----------------|-------------------|--------------------------------------------------------------------------------------------------------------------------------------------------------------------------------------------------|-----------------|---------------|------------------------|\n",
      "| FBBL3325B 57458   | 1-Jan-25    | 31-Mar-25 | 12930918         | MOD/HDFC/202 3-2024/297 | 21-Feb-24      | Enterprise MPLS | 68295.5           | 2 Mbps Unmanaged Enterprise MPLS Hdfc sale PVT LTD T S NO753 1 Part 1st Floor Block 2 GKD Nagar Avalapali Road ward D TNHB West Hosur Taluk Krishnagiri District 635109 - Access Bandwidth ARC   |         17073.9 |        3073.3 |                20147.2 |\n",
      "| FBBL3325B 57458   | 1-Jan-25    | 31-Mar-25 | 13151388         | MOD/HDFC/202 3-2024/298 | 21-Feb-24      | Enterprise MPLS | 68295.5           | 2 Mbps Unmanaged Enterprise MPLS HDFC SALES PVT LTD 1ST FLOOR PADMANADAM COMPLEX 4 35 A 2 MARKET ROAD OPP TO NEWBUS SATND MARTHANDAM KANYAKUMARI DISTICT TAMILNADU 629165 - Access Bandwidth ARC |         17073.9 |        3073.3 |                20147.2 |\n",
      "| FBBL3325B 57458   | 1-Jan-25    | 31-Mar-25 | 14626587         | MOD/HDFC/202 3-2024/351 | 21-Feb-24      | Enterprise MPLS | 492765            | 40 Mbps Unmanaged Enterprise MPLS HDFC Sales Pvt Ltd 112 4 Kaliyamman Koil St Virugambakkam Near Sbi Bank Chennai 600092 Tamilnadu - Access Bandwidth ARC                                        |        123191   |       22174.4 |               145366   |\n",
      "| Total             |             |           |                  |                         |                |                 |                   |                                                                                                                                                                                                  |        157339   |       28321   |               185660   |\n"
     ]
    }
   ],
   "source": [
    "print(doc.export_to_markdown())  # output: \"### Docling Technical Report[...]\""
   ]
  },
  {
   "cell_type": "code",
   "execution_count": null,
   "id": "dd617059",
   "metadata": {},
   "outputs": [],
   "source": [
    "import transformers\n",
    "print(transformers.__version__)\n"
   ]
  },
  {
   "cell_type": "code",
   "execution_count": null,
   "id": "f0f4f66b",
   "metadata": {},
   "outputs": [],
   "source": [
    "from transformers import AutoConfig, RTDetrV2ForObjectDetection\n",
    "config = AutoConfig.from_pretrained(\"PekingU/RTDetrV2_r50vd\")\n",
    "model = RTDetrV2ForObjectDetection.from_pretrained(\"PekingU/RTDetrV2_r50vd\")\n"
   ]
  },
  {
   "cell_type": "code",
   "execution_count": null,
   "id": "8996c096",
   "metadata": {},
   "outputs": [],
   "source": []
  }
 ],
 "metadata": {
  "kernelspec": {
   "display_name": "Python 3",
   "language": "python",
   "name": "python3"
  },
  "language_info": {
   "codemirror_mode": {
    "name": "ipython",
    "version": 3
   },
   "file_extension": ".py",
   "mimetype": "text/x-python",
   "name": "python",
   "nbconvert_exporter": "python",
   "pygments_lexer": "ipython3",
   "version": "3.11.13"
  }
 },
 "nbformat": 4,
 "nbformat_minor": 5
}
