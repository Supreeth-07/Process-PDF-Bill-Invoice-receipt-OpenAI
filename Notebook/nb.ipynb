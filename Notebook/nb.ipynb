{
 "cells": [
  {
   "cell_type": "code",
   "execution_count": null,
   "id": "ce22aee6",
   "metadata": {},
   "outputs": [],
   "source": [
    "#!pip install pypdf"
   ]
  },
  {
   "cell_type": "code",
   "execution_count": null,
   "id": "27bcbfde",
   "metadata": {},
   "outputs": [],
   "source": [
    "path = r\"D:\\Python Projects\\6-RAG_on_Docs\\Data\\HDFC-Bill\\FBBL3325B57458 2.pdf\""
   ]
  },
  {
   "cell_type": "code",
   "execution_count": null,
   "id": "3e609b9d",
   "metadata": {},
   "outputs": [],
   "source": [
    "from pypdf import PdfReader\n",
    "\n",
    "reader = PdfReader(path)\n",
    "no_of_pages = len(reader.pages)\n",
    "page = reader.pages[1]\n",
    "text = page.extract_text"
   ]
  },
  {
   "cell_type": "code",
   "execution_count": null,
   "id": "8d51dd2e",
   "metadata": {},
   "outputs": [],
   "source": [
    "reader.pages[0].extract_text"
   ]
  },
  {
   "cell_type": "code",
   "execution_count": null,
   "id": "64782776",
   "metadata": {},
   "outputs": [],
   "source": []
  },
  {
   "cell_type": "code",
   "execution_count": null,
   "id": "02144321",
   "metadata": {},
   "outputs": [],
   "source": [
    "from pdfminer.high_level import extract_text\n",
    "\n",
    "text = extract_text(path)"
   ]
  },
  {
   "cell_type": "code",
   "execution_count": null,
   "id": "a47e4c48",
   "metadata": {},
   "outputs": [],
   "source": [
    "text"
   ]
  },
  {
   "cell_type": "code",
   "execution_count": null,
   "id": "4180ebfa",
   "metadata": {},
   "outputs": [],
   "source": [
    "import pdfplumber"
   ]
  },
  {
   "cell_type": "code",
   "execution_count": null,
   "id": "36308948",
   "metadata": {},
   "outputs": [],
   "source": [
    "with pdfplumber.open(path) as pdf:\n",
    "    text2= ''.join(page.extract_text() for page in pdf.pages)"
   ]
  },
  {
   "cell_type": "code",
   "execution_count": null,
   "id": "0287ec60",
   "metadata": {},
   "outputs": [],
   "source": [
    "print(text2)"
   ]
  },
  {
   "cell_type": "code",
   "execution_count": null,
   "id": "12c9038e",
   "metadata": {},
   "outputs": [],
   "source": []
  },
  {
   "cell_type": "code",
   "execution_count": null,
   "id": "dbf2444b",
   "metadata": {},
   "outputs": [],
   "source": [
    "import fitz  # PyMuPDF\n",
    "doc = fitz.open(path)\n",
    "text3= \"\"\n",
    "for page in doc:\n",
    "    text3+= page.get_text()\n"
   ]
  },
  {
   "cell_type": "code",
   "execution_count": null,
   "id": "70ce1e00",
   "metadata": {},
   "outputs": [],
   "source": [
    "print(text3)"
   ]
  },
  {
   "cell_type": "code",
   "execution_count": null,
   "id": "61e3e7ab",
   "metadata": {},
   "outputs": [],
   "source": []
  },
  {
   "cell_type": "code",
   "execution_count": null,
   "id": "cc045e2f",
   "metadata": {},
   "outputs": [],
   "source": [
    "pip install pdfminer.six"
   ]
  },
  {
   "cell_type": "code",
   "execution_count": null,
   "id": "c2d52b0b",
   "metadata": {},
   "outputs": [],
   "source": [
    "from pdfminer.high_level import extract_pages, extract_text_to_fp, extract_text"
   ]
  },
  {
   "cell_type": "code",
   "execution_count": null,
   "id": "6ca773ab",
   "metadata": {},
   "outputs": [],
   "source": [
    "path = r\"D:\\Python Projects\\6-RAG_on_Docs\\Data\\HDFC-Bill\\FBBL3325B57458 2.pdf\""
   ]
  },
  {
   "cell_type": "code",
   "execution_count": null,
   "id": "6a8312b6",
   "metadata": {},
   "outputs": [],
   "source": [
    "a = extract_pages(path)\n",
    "#b= extract_text_to_fp(path)\n",
    "c = extract_text(path)"
   ]
  },
  {
   "cell_type": "code",
   "execution_count": null,
   "id": "2954d891",
   "metadata": {},
   "outputs": [],
   "source": [
    "a"
   ]
  },
  {
   "cell_type": "code",
   "execution_count": null,
   "id": "3c9e68d2",
   "metadata": {},
   "outputs": [],
   "source": [
    "print(c)"
   ]
  },
  {
   "cell_type": "code",
   "execution_count": null,
   "id": "1a400d21",
   "metadata": {},
   "outputs": [],
   "source": [
    "pip install PyPDF2\n"
   ]
  },
  {
   "cell_type": "code",
   "execution_count": null,
   "id": "a55071bd",
   "metadata": {},
   "outputs": [],
   "source": [
    "import PyPDF2\n",
    "\n",
    "# Open the PDF file in read-binary mode\n",
    "with open(path,'rb') as file:\n",
    "    reader = PyPDF2.PdfReader(file)\n",
    "    \n",
    "    # Get the number of pages\n",
    "    num_pages = len(reader.pages)\n",
    "    print(f\"Number of pages: {num_pages}\")\n",
    "    \n",
    "    # Loop through all pages and print text\n",
    "    for i in range(num_pages):\n",
    "        page = reader.pages[i]\n",
    "        text = page.extract_text()\n",
    "        print(f\"\\n--- Page {i+1} ---\\n\")\n",
    "        print(text)\n"
   ]
  },
  {
   "cell_type": "code",
   "execution_count": null,
   "id": "99c84e63",
   "metadata": {},
   "outputs": [],
   "source": [
    "p_obj = open(path,'rb')"
   ]
  },
  {
   "cell_type": "code",
   "execution_count": null,
   "id": "38a6769a",
   "metadata": {},
   "outputs": [],
   "source": [
    "txt = PyPDF2.PdfReader(p_obj)"
   ]
  },
  {
   "cell_type": "code",
   "execution_count": null,
   "id": "9c9f4cdd",
   "metadata": {},
   "outputs": [],
   "source": [
    "txt.ex"
   ]
  },
  {
   "cell_type": "code",
   "execution_count": null,
   "id": "549262ed",
   "metadata": {},
   "outputs": [],
   "source": []
  },
  {
   "cell_type": "code",
   "execution_count": null,
   "id": "704f8131",
   "metadata": {},
   "outputs": [],
   "source": []
  },
  {
   "cell_type": "code",
   "execution_count": null,
   "id": "c94029b5",
   "metadata": {},
   "outputs": [],
   "source": [
    "path3 = r\"D:\\Python Projects\\6-RAG_on_Docs\\Data\\MOL-BankStatement\\HDFC.pdf\""
   ]
  },
  {
   "cell_type": "code",
   "execution_count": null,
   "id": "b60dea0d",
   "metadata": {},
   "outputs": [],
   "source": [
    "import pdfplumber"
   ]
  },
  {
   "cell_type": "code",
   "execution_count": null,
   "id": "5981f502",
   "metadata": {},
   "outputs": [],
   "source": [
    "\n",
    "\n",
    "# with pdfplumber.open(path3) as pdf:\n",
    "#     for page_num, page in enumerate(pdf.pages):\n",
    "#         tables = page.extract_tables()\n",
    "#         for table in tables:\n",
    "#             print(f\"\\n--- Page {page_num + 1} Table ---\")\n",
    "#             for row in table:\n",
    "#                 print(row)\n",
    "\n",
    "\n",
    "import pdfplumber\n",
    "import pandas as pd\n",
    "\n",
    "dataframes = []\n",
    "\n",
    "with pdfplumber.open(path3) as pdf:\n",
    "    for page in pdf.pages:\n",
    "        tables = page.extract_tables()\n",
    "        for table in tables:\n",
    "            # Convert list of rows into DataFrame\n",
    "            df = pd.DataFrame(table[1:], columns=table[0])  # Use first row as header\n",
    "            dataframes.append(df)\n",
    "\n",
    "# Combine all tables from all pages\n",
    "final_df = pd.concat(dataframes, ignore_index=True)\n"
   ]
  },
  {
   "cell_type": "code",
   "execution_count": null,
   "id": "40658b10",
   "metadata": {},
   "outputs": [],
   "source": [
    "final_df"
   ]
  },
  {
   "cell_type": "code",
   "execution_count": null,
   "id": "38b3ae20",
   "metadata": {},
   "outputs": [],
   "source": [
    "pip install camelot-py[cv]"
   ]
  },
  {
   "cell_type": "code",
   "execution_count": null,
   "id": "649de66f",
   "metadata": {},
   "outputs": [],
   "source": [
    "path4  = \"C:\\\\Users\\\\Admin\\\\Downloads\\\\Agos_VendorsFormat\\\\Agos_VendorsFormat\\\\Aviation Main Services Inc\\\\Invoice 25618 (1).pdf\""
   ]
  },
  {
   "cell_type": "code",
   "execution_count": null,
   "id": "eb426707",
   "metadata": {},
   "outputs": [],
   "source": [
    "# 'lattice' or 'stream'\n",
    "import camelot\n",
    "import pandas as pd\n",
    "import numpy as np\n",
    "\n",
    "# Choose \"lattice\" if tables have borders, else \"stream\"\n",
    "tables = camelot.read_pdf(path4, pages=\"all\", flavor='stream')\n",
    "\n",
    "# Convert first table to DataFrame\n",
    "df = tables[0].df\n",
    "\n",
    "# Optionally, clean headers\n",
    "df.columns = df.iloc[0]  # First row as header\n",
    "df = df[1:]  # Remove header row from data\n",
    "\n",
    "print(df.head())\n"
   ]
  },
  {
   "cell_type": "code",
   "execution_count": null,
   "id": "21756695",
   "metadata": {},
   "outputs": [],
   "source": []
  },
  {
   "cell_type": "code",
   "execution_count": null,
   "id": "a4f20bb1",
   "metadata": {},
   "outputs": [],
   "source": [
    "import camelot\n",
    "\n",
    "# Choose \"lattice\" if tables have borders, else \"stream\"\n",
    "tables = camelot.read_pdf(path4, pages=\"all\", flavor='stream')\n",
    "combined_df2 = pd.concat([table.df for table in tables], ignore_index=True)\n",
    "\n",
    "# Convert first table to DataFrame\n",
    "#df2 = tables[0].df\n",
    "#df2 = tables.\n",
    "\n",
    "# # Optionally, clean headers\n",
    "# df2.columns = df2.iloc[0]  # First row as header\n",
    "# df2 = df2[1:]  # Remove header row from data\n",
    "\n",
    "#print(df2.head())\n"
   ]
  },
  {
   "cell_type": "code",
   "execution_count": null,
   "id": "3dda5ffa",
   "metadata": {},
   "outputs": [],
   "source": []
  },
  {
   "cell_type": "code",
   "execution_count": null,
   "id": "86ec3f4d",
   "metadata": {},
   "outputs": [],
   "source": [
    "combined_df2.shape"
   ]
  },
  {
   "cell_type": "code",
   "execution_count": null,
   "id": "af5c16c3",
   "metadata": {},
   "outputs": [],
   "source": [
    "combined_df2"
   ]
  },
  {
   "cell_type": "code",
   "execution_count": null,
   "id": "74e4576f",
   "metadata": {},
   "outputs": [],
   "source": [
    "df2.head()"
   ]
  },
  {
   "cell_type": "code",
   "execution_count": null,
   "id": "2d2ff576",
   "metadata": {},
   "outputs": [],
   "source": [
    "pip install camelot"
   ]
  },
  {
   "cell_type": "code",
   "execution_count": null,
   "id": "c81296d6",
   "metadata": {},
   "outputs": [],
   "source": [
    "path = r\"D:\\Python Projects\\6-RAG_on_Docs\\Data\\HDFC-Bill\\FBBL3325B57458 2.pdf\"\n",
    "\n",
    "import camelot\n",
    "\n",
    "# Choose \"lattice\" if tables have borders, else \"stream\"\n",
    "tables = camelot.read_pdf(path, pages=\"4\", flavor='lattice')\n",
    "combined_df2 = pd.concat([table.df for table in tables], ignore_index=True)"
   ]
  },
  {
   "cell_type": "code",
   "execution_count": null,
   "id": "f720bafc",
   "metadata": {},
   "outputs": [],
   "source": [
    "combined_df2.shape"
   ]
  },
  {
   "cell_type": "code",
   "execution_count": null,
   "id": "587572e5",
   "metadata": {},
   "outputs": [],
   "source": [
    "combined_df2"
   ]
  },
  {
   "cell_type": "code",
   "execution_count": null,
   "id": "31b87203",
   "metadata": {},
   "outputs": [],
   "source": [
    "# pip install DocumentConverter\n",
    "\n"
   ]
  },
  {
   "cell_type": "code",
   "execution_count": null,
   "id": "dda11891",
   "metadata": {},
   "outputs": [],
   "source": [
    "pip install docling"
   ]
  },
  {
   "cell_type": "code",
   "execution_count": null,
   "id": "dbeda236",
   "metadata": {},
   "outputs": [],
   "source": [
    "from docling.document_converter import DocumentConverter\n",
    "\n",
    "path = r\"D:\\Python Projects\\6-RAG_on_Docs\\Data\\HDFC-Bill\\FBBL3325B57458 2.pdf\"\n",
    "\n",
    "path3 = r\"D:\\Python Projects\\6-RAG_on_Docs\\Data\\MOL-BankStatement\\HDFC.pdf\"\n",
    "\n",
    "path4 = r\"C:\\Users\\Admin\\Downloads\\Agos_VendorsFormat\\Agos_VendorsFormat\\AGI Alliance Ground International\\ATLAS AIR CARGO BHM CINV-100-105909 2025-05-14.pdf\""
   ]
  },
  {
   "cell_type": "code",
   "execution_count": null,
   "id": "4241df7c",
   "metadata": {},
   "outputs": [],
   "source": [
    "\n",
    "source = path4  # file path or URL\n",
    "converter = DocumentConverter()\n",
    "doc = converter.convert(source).document\n"
   ]
  },
  {
   "cell_type": "code",
   "execution_count": null,
   "id": "e4c332af",
   "metadata": {},
   "outputs": [],
   "source": [
    "print(doc.export_to_markdown())  # output: \"### Docling Technical Report[...]\""
   ]
  },
  {
   "cell_type": "code",
   "execution_count": null,
   "id": "8996c096",
   "metadata": {},
   "outputs": [],
   "source": [
    "print(doc.export_to_json())"
   ]
  },
  {
   "cell_type": "code",
   "execution_count": null,
   "id": "605458e1",
   "metadata": {},
   "outputs": [],
   "source": [
    "doc"
   ]
  },
  {
   "cell_type": "code",
   "execution_count": null,
   "id": "ace1af45",
   "metadata": {},
   "outputs": [],
   "source": [
    "print(doc.export_to_dict())"
   ]
  },
  {
   "cell_type": "code",
   "execution_count": null,
   "id": "7938bde0",
   "metadata": {},
   "outputs": [],
   "source": [
    "import camelot\n",
    "\n",
    "# 'lattice' or 'stream'\n",
    "\n",
    "# Choose \"lattice\" if tables have borders, else \"stream\"\n",
    "tables = camelot.read_pdf(path4, pages=\"all\", flavor='lattice')\n",
    "combined_df2 = pd.concat([table.df for table in tables], ignore_index=True)"
   ]
  },
  {
   "cell_type": "code",
   "execution_count": null,
   "id": "932c593a",
   "metadata": {},
   "outputs": [],
   "source": [
    "print(combined_df2.to_string())"
   ]
  },
  {
   "cell_type": "code",
   "execution_count": null,
   "id": "df248a15",
   "metadata": {},
   "outputs": [],
   "source": []
  }
 ],
 "metadata": {
  "kernelspec": {
   "display_name": "Python 3",
   "language": "python",
   "name": "python3"
  },
  "language_info": {
   "codemirror_mode": {
    "name": "ipython",
    "version": 3
   },
   "file_extension": ".py",
   "mimetype": "text/x-python",
   "name": "python",
   "nbconvert_exporter": "python",
   "pygments_lexer": "ipython3",
   "version": "3.11.13"
  }
 },
 "nbformat": 4,
 "nbformat_minor": 5
}
