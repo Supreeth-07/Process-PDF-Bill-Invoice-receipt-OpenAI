{
 "cells": [
  {
   "cell_type": "code",
   "execution_count": null,
   "id": "ce22aee6",
   "metadata": {},
   "outputs": [],
   "source": [
    "#!pip install pypdf"
   ]
  },
  {
   "cell_type": "code",
   "execution_count": null,
   "id": "27bcbfde",
   "metadata": {},
   "outputs": [],
   "source": [
    "path = r\"D:\\Python Projects\\6-RAG_on_Docs\\Data\\HDFC-Bill\\FBBL3325B57458 2.pdf\""
   ]
  },
  {
   "cell_type": "code",
   "execution_count": null,
   "id": "3e609b9d",
   "metadata": {},
   "outputs": [],
   "source": [
    "from pypdf import PdfReader\n",
    "\n",
    "reader = PdfReader(path)\n",
    "no_of_pages = len(reader.pages)\n",
    "page = reader.pages[1]\n",
    "text = page.extract_text"
   ]
  },
  {
   "cell_type": "code",
   "execution_count": null,
   "id": "8d51dd2e",
   "metadata": {},
   "outputs": [],
   "source": [
    "reader.pages[0].extract_text"
   ]
  },
  {
   "cell_type": "code",
   "execution_count": null,
   "id": "64782776",
   "metadata": {},
   "outputs": [],
   "source": []
  },
  {
   "cell_type": "code",
   "execution_count": null,
   "id": "02144321",
   "metadata": {},
   "outputs": [],
   "source": [
    "from pdfminer.high_level import extract_text\n",
    "\n",
    "text = extract_text(path)"
   ]
  },
  {
   "cell_type": "code",
   "execution_count": null,
   "id": "a47e4c48",
   "metadata": {},
   "outputs": [],
   "source": [
    "text"
   ]
  },
  {
   "cell_type": "code",
   "execution_count": null,
   "id": "4180ebfa",
   "metadata": {},
   "outputs": [],
   "source": [
    "import pdfplumber"
   ]
  },
  {
   "cell_type": "code",
   "execution_count": null,
   "id": "36308948",
   "metadata": {},
   "outputs": [],
   "source": [
    "with pdfplumber.open(path) as pdf:\n",
    "    text2= ''.join(page.extract_text() for page in pdf.pages)"
   ]
  },
  {
   "cell_type": "code",
   "execution_count": null,
   "id": "0287ec60",
   "metadata": {},
   "outputs": [],
   "source": [
    "print(text2)"
   ]
  },
  {
   "cell_type": "code",
   "execution_count": null,
   "id": "12c9038e",
   "metadata": {},
   "outputs": [],
   "source": []
  },
  {
   "cell_type": "code",
   "execution_count": null,
   "id": "dbf2444b",
   "metadata": {},
   "outputs": [],
   "source": [
    "import fitz  # PyMuPDF\n",
    "doc = fitz.open(path)\n",
    "text3= \"\"\n",
    "for page in doc:\n",
    "    text3+= page.get_text()\n"
   ]
  },
  {
   "cell_type": "code",
   "execution_count": null,
   "id": "70ce1e00",
   "metadata": {},
   "outputs": [],
   "source": [
    "print(text3)"
   ]
  },
  {
   "cell_type": "code",
   "execution_count": null,
   "id": "61e3e7ab",
   "metadata": {},
   "outputs": [],
   "source": []
  },
  {
   "cell_type": "code",
   "execution_count": null,
   "id": "cc045e2f",
   "metadata": {},
   "outputs": [],
   "source": [
    "pip install pdfminer.six"
   ]
  },
  {
   "cell_type": "code",
   "execution_count": null,
   "id": "c2d52b0b",
   "metadata": {},
   "outputs": [],
   "source": [
    "from pdfminer.high_level import extract_pages, extract_text_to_fp, extract_text"
   ]
  },
  {
   "cell_type": "code",
   "execution_count": null,
   "id": "6ca773ab",
   "metadata": {},
   "outputs": [],
   "source": [
    "path = r\"D:\\Python Projects\\6-RAG_on_Docs\\Data\\HDFC-Bill\\FBBL3325B57458 2.pdf\""
   ]
  },
  {
   "cell_type": "code",
   "execution_count": null,
   "id": "6a8312b6",
   "metadata": {},
   "outputs": [],
   "source": [
    "a = extract_pages(path)\n",
    "#b= extract_text_to_fp(path)\n",
    "c = extract_text(path)"
   ]
  },
  {
   "cell_type": "code",
   "execution_count": null,
   "id": "2954d891",
   "metadata": {},
   "outputs": [],
   "source": [
    "a"
   ]
  },
  {
   "cell_type": "code",
   "execution_count": null,
   "id": "3c9e68d2",
   "metadata": {},
   "outputs": [],
   "source": [
    "print(c)"
   ]
  },
  {
   "cell_type": "code",
   "execution_count": null,
   "id": "1a400d21",
   "metadata": {},
   "outputs": [],
   "source": [
    "pip install PyPDF2\n"
   ]
  },
  {
   "cell_type": "code",
   "execution_count": 48,
   "id": "a55071bd",
   "metadata": {},
   "outputs": [
    {
     "name": "stdout",
     "output_type": "stream",
     "text": [
      "Number of pages: 4\n",
      "\n",
      "--- Page 1 ---\n",
      "\n",
      "Bharti Airtel Ltd\n",
      "Authorised Signatory75100396 FBBL3325B57458Altaf Karvinkar\n",
      "HDFC SALES PRIVATE LIMITED\n",
      "HDFC Sale Pvt Ltd hdfc house 4th floor h.t Parekh Marg 165-166\n",
      "Backbay Reciamation churchgate mumbai -400020 -\n",
      "Mumbai - -\n",
      "Maharashtra\n",
      "HDFC SALES PRIVATE LIMITED\n",
      "VIKRAM , 1TH Floor, West Sivan Koil Street, Vadapalani, -\n",
      "Chennai-600026 . -\n",
      "Chennai - 600026\n",
      "Tamil Nadu\n",
      "GSTIN Details\n",
      "Customer GSTIN. :  33AABCH4278H1ZN\n",
      "Place of Supply :  Tamil Nadu\n",
      "State Code : 33\n",
      "Customer PAN No. :  AABCH4278HDATA SERVICES\n",
      "Original copy for Recipient: Tax Invoice\n",
      "Summary Of ChargesYour Account SummaryMailing Address\n",
      "Billing AddressAccount Details\n",
      "Bharti Airtel Ltd\n",
      "101, Oceanic Towers, Santhome High Road, Santhome, Chennai, Tamil Nadu- 600028\n",
      "STATE: Tamil Nadu, STATE CODE: 33, GST Number: 33AAACB2894G1ZU\n",
      "Regd Office : Airtel Center,Plot No.16,Udyog Vihar,Phase IV,Gurugram 122015,Haryana,India.\n",
      "Phone 0124 - 4222222; Fax 0124 - 4243252; Corporate identity Number-L74899HR1995PLC095967; www.airtel.in\n",
      "HSN CODE: 998414IRN Code: 91bb25605c674a42bcbacc2d0d3e184c5fe98a6496c0a8f1ce8bed38f4c45805\n",
      "YOUR PAYMENT OPTIONS\n",
      "Pay bill online through Airtel Thanks for Business - https://www.airtel.in/business/thanksforbusiness/login/ Internal Id: 75100396\n",
      "Account No. 21025016 Bill No. FBBL3325B57458 Amount Due: INR 1,85,660.01 LoB:  Data Business\n",
      "EFT/RTGS Bank Name : Citi Bank NA Bank A/c No : BTELDC00000000090445 Beneficiary A/c Name: Bharti Airtel Ltd\n",
      "PAN : AAACB2894G IFSC : CITI0000004 GST Registration No : 33AAACB2894G1ZU\n",
      "*No tax payable on reverse charge basisAccount no 21025016\n",
      "Internal id 75100396\n",
      "Bill no FBBL3325B57458\n",
      "Bill date 24-FEB-2025\n",
      "Pay By date 17-MAR-2025\n",
      "Amount( INR)\n",
      "Recurring charges\n",
      "0.00 One time charges1,57,338.99\n",
      "Adjustments 0.00\n",
      "Sub-Total 1,57,338.99\n",
      "CGST 14,160.51\n",
      "SGST/UTGST 14,160.51\n",
      "Total Taxes 28,321.02\n",
      "Total ( INR) 1,85,660.01\n",
      "Amount in Words:  INR One Lakh Eighty Five Thousand Six Hundred\n",
      "Sixty Rupees and One Paise Only\n",
      "Page 1 of 3Page 1 of 3\n",
      "\n",
      "--- Page 2 ---\n",
      "\n",
      "  Terms & Conditions\n",
      "1)Bharti Airtel Ltd. has full right to change the terms and conditions applicable to tariff plans from time to time.\n",
      "2)Bharti Airtel Ltd. reserves the right to suspend service in case of non-payment by Due Date. The customer shall continue to be liable for the\n",
      "charges during the period of suspension.\n",
      "3)The invoice will be deemed accepted in case of variation/dispute not reported by Due Date of invoice. Any arbitration as result of such dispute\n",
      "shall be conducted exclusively in Delhi.\n",
      "4)In case of any changes (upgrade, downgrade or shifting) done on any live Circuit Id, the adjusted amount will be submitted in subsequent\n",
      "invoice after the implementation of changes delivered.\n",
      "5)In the event of termination of a link(s) or partial termination of the Data Services during the Service Order Term for the respective link(s)/Data\n",
      "Services by the Customer, Airtel reserves the right to charge for the residual term at the rates as mentioned in the Service Acquisition Form\n",
      "6)(\"Termination Charges\") and Customer agrees to pay such Termination Charges along with charges for Data Services rendered up to the\n",
      "effective date of termination within Due Date of the date of the invoice.\n",
      "Nature Of Service  : Telecommunication, broadcasting and information supply services, Information technology and software support services,\n",
      "On line information and data base access or retrieval,Management maintenance or repair, leasing or rental services with or without operator and\n",
      "erection Commissioning or installation.\n",
      "  Charge calculation method\n",
      "For products which are charged annually:\n",
      "Full year charge = Annual Charges\n",
      "Prorated monthly charges =(Annual charges / 12*No of months)\n",
      "For Fractional months, the calculation has been done as follows: (Annual Charges/4) * (Days of Service in Quarter/Total No. of days in Quarter)\n",
      "Same calculations will be done for monthly billing cycle\n",
      "   How to disconnect ?\n",
      "Kindly log in and raise request on Airtel Thanks for Business: https://www.airtel.in/business/thanksforbusiness/login/. Request for\n",
      "disconnection of Circuit id (LSI) on Airtel Thanks for Business can be raised by clicking on \"Circuits\" option present in the left hand navigation-\n",
      "menu bar under \"Airtel Connectivity\" tab. ,Upon receipt of request, a Service Request (SR) No. will be provided to you. Please note that in\n",
      "absence of SR number, no credit adjustment shall be made for the delay in disconnection and the customer shall be liable to pay for the\n",
      "charges. We request you to use Airtel Thanks for Business for raising disconnection request.\n",
      "   How to raise dispute ?\n",
      "Kindly contact us on Airtel Thanks for Business: https://www.airtel.in/business/thanksforbusiness/login/. Login using your registered email\n",
      "id.OR\n",
      "1)Kindly write to us at datasupport@airtel.com. Please notify us of the disputed charges by the Due Date with the following information:\n",
      "2)Invoice Number\n",
      "3)Circuit ID (LSI)\n",
      "4)Amount of disputed charges\n",
      "5)Reason for disputing the charges\n",
      "6)Mails exchanged with Airtel team, if any\n",
      "   Key contact points\n",
      "In case of queries reach out to your respective Relationship Manager / Account Manager.\n",
      "Page 2 of 3\n",
      "Page 2 of 3\n",
      "\n",
      "--- Page 3 ---\n",
      "\n",
      "Bill no    : FBBL3325B57458\n",
      "Bill date : 24-FEB-2025\n",
      "Summary Of Charges\n",
      "Product/HSN MPLS-LM/998414\n",
      "Qty/UQM 1/Others\n",
      "Installation Address(A)\n",
      "Installation Address(B)\n",
      "LSIPO No /\n",
      "DateInstallation\n",
      "  Date /\n",
      "PeriodBandwidth /\n",
      "DistanceDescriptionAnnual\n",
      "Charges\n",
      "(INR)Current\n",
      "Charges\n",
      "(INR)CGST SGST/UTGST IGST\n",
      "Rate Amount Rate Amount Rate Amount\n",
      "500491322 MOD/\n",
      "HDFC/2023-2024/335 /\n",
      "21-FEB-2024 01-Oct-2024  /\n",
      "01-Feb-2025\n",
      "to\n",
      "01-Feb-20251024 Kbps  /\n",
      "-Billing for JFM 25- State\n",
      "- TAMIL NADU: Count of\n",
      "Circuit id = 14626587,\n",
      "13151388, 12930918//0.00 1,57,338.99 9% 14,160.51 9% 14,160.51 0% 0.00\n",
      "Total 0.00 1,57,338.99 14,160.51 14,160.51 0.00\n",
      "Tax Details\n",
      "Description HSN Taxable Value Rate Amount Total\n",
      "CGST 998414 1,57,338.99 9% 14,160.51\n",
      "UTGST/SGST 998414 1,57,338.99 9% 14,160.5128,321.02\n",
      "Total 28,321.02\n",
      "Page 3 of 3\n",
      "Page 3 of 3\n",
      "\n",
      "--- Page 4 ---\n",
      "\n",
      "Invoice_Nu\n",
      "mberFrom_Date To_Date Logical_Ckt_Id Request No Request Date ProductRate_Per_Ann\n",
      "umAnnotation Basic_Cur_Amt Tax_Cur_AmtNet_Payable_Cu\n",
      "r_Amt\n",
      "FBBL3325B\n",
      "574581-Jan-25 31-Mar-25 12930918MOD/HDFC/202\n",
      "3-2024/29721-Feb-24Enterprise \n",
      "MPLS68295.52 Mbps Unmanaged Enterprise MPLS \n",
      "Hdfc sale PVT LTD T S NO 753 1 Part \n",
      "1st Floor Block 2 GKD Nagar Avalapali \n",
      "Road ward D TNHB West Hosur Taluk \n",
      "Krishnagiri District 635109 - Access \n",
      "Bandwidth ARC17073.87 3073.3 20147.17\n",
      "FBBL3325B\n",
      "574581-Jan-25 31-Mar-25 13151388MOD/HDFC/202\n",
      "3-2024/29821-Feb-24Enterprise \n",
      "MPLS68295.52 Mbps Unmanaged Enterprise MPLS \n",
      "HDFC SALES PVT LTD 1ST FLOOR \n",
      "PADMANADAM COMPLEX 4 35 A 2 \n",
      "MARKET ROAD OPP TO NEWBUS \n",
      "SATND MARTHANDAM KANYAKUMARI \n",
      "DISTICT TAMILNADU 629165 - Access \n",
      "Bandwidth ARC17073.87 3073.3 20147.17\n",
      "FBBL3325B\n",
      "574581-Jan-25 31-Mar-25 14626587MOD/HDFC/202\n",
      "3-2024/35121-Feb-24Enterprise \n",
      "MPLS49276540 Mbps Unmanaged Enterprise MPLS \n",
      "HDFC Sales Pvt Ltd 112 4 Kaliyamman \n",
      "Koil St Virugambakkam Near Sbi Bank \n",
      "Chennai 600092 Tamilnadu - Access \n",
      "Bandwidth ARC123191.25 22174.42 145365.67\n",
      "Total 157338.99 28321.02 185660.01\n"
     ]
    }
   ],
   "source": [
    "import PyPDF2\n",
    "\n",
    "# Open the PDF file in read-binary mode\n",
    "with open(path,'rb') as file:\n",
    "    reader = PyPDF2.PdfReader(file)\n",
    "    \n",
    "    # Get the number of pages\n",
    "    num_pages = len(reader.pages)\n",
    "    print(f\"Number of pages: {num_pages}\")\n",
    "    \n",
    "    # Loop through all pages and print text\n",
    "    for i in range(num_pages):\n",
    "        page = reader.pages[i]\n",
    "        text = page.extract_text()\n",
    "        print(f\"\\n--- Page {i+1} ---\\n\")\n",
    "        print(text)\n"
   ]
  },
  {
   "cell_type": "code",
   "execution_count": 45,
   "id": "99c84e63",
   "metadata": {},
   "outputs": [],
   "source": [
    "p_obj = open(path,'rb')"
   ]
  },
  {
   "cell_type": "code",
   "execution_count": 46,
   "id": "38a6769a",
   "metadata": {},
   "outputs": [],
   "source": [
    "txt = PyPDF2.PdfReader(p_obj)"
   ]
  },
  {
   "cell_type": "code",
   "execution_count": null,
   "id": "9c9f4cdd",
   "metadata": {},
   "outputs": [
    {
     "data": {
      "text/plain": [
       "<PyPDF2._reader.PdfReader at 0x20e4a29e3d0>"
      ]
     },
     "execution_count": 47,
     "metadata": {},
     "output_type": "execute_result"
    }
   ],
   "source": [
    "txt.ex"
   ]
  },
  {
   "cell_type": "code",
   "execution_count": null,
   "id": "549262ed",
   "metadata": {},
   "outputs": [],
   "source": []
  },
  {
   "cell_type": "code",
   "execution_count": null,
   "id": "704f8131",
   "metadata": {},
   "outputs": [],
   "source": []
  },
  {
   "cell_type": "code",
   "execution_count": null,
   "id": "c94029b5",
   "metadata": {},
   "outputs": [],
   "source": []
  },
  {
   "cell_type": "code",
   "execution_count": null,
   "id": "5981f502",
   "metadata": {},
   "outputs": [],
   "source": []
  }
 ],
 "metadata": {
  "kernelspec": {
   "display_name": "base",
   "language": "python",
   "name": "python3"
  },
  "language_info": {
   "codemirror_mode": {
    "name": "ipython",
    "version": 3
   },
   "file_extension": ".py",
   "mimetype": "text/x-python",
   "name": "python",
   "nbconvert_exporter": "python",
   "pygments_lexer": "ipython3",
   "version": "3.11.7"
  }
 },
 "nbformat": 4,
 "nbformat_minor": 5
}
